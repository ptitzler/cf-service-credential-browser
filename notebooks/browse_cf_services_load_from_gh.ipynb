{
 "cells": [
  {
   "cell_type": "code",
   "execution_count": null,
   "metadata": {
    "collapsed": true
   },
   "outputs": [],
   "source": [
    "# Upgrade to latest PixieDust version\n",
    "!pip install --upgrade \"pixiedust>=1.1.9\""
   ]
  },
  {
   "cell_type": "code",
   "execution_count": 1,
   "metadata": {},
   "outputs": [
    {
     "name": "stdout",
     "output_type": "stream",
     "text": [
      "Collecting cfservicecredentialbrowser from git+https://github.com/ptitzler/cf-service-credential-browser.git#egg=cfservicecredentialbrowser\n",
      "  Cloning https://github.com/ptitzler/cf-service-credential-browser.git to /private/var/folders/cs/560yb9sn0xv9h_gw47z5l1140000gn/T/pip-build-txt7xt_7/cfservicecredentialbrowser\n",
      "Requirement already up-to-date: pixiedust in /Users/patti/anaconda3/lib/python3.6/site-packages (from cfservicecredentialbrowser)\n",
      "Requirement already up-to-date: lxml in /Users/patti/anaconda3/lib/python3.6/site-packages (from pixiedust->cfservicecredentialbrowser)\n",
      "Requirement already up-to-date: geojson in /Users/patti/anaconda3/lib/python3.6/site-packages (from pixiedust->cfservicecredentialbrowser)\n",
      "Requirement already up-to-date: astunparse in /Users/patti/anaconda3/lib/python3.6/site-packages (from pixiedust->cfservicecredentialbrowser)\n",
      "Requirement already up-to-date: markdown in /Users/patti/anaconda3/lib/python3.6/site-packages (from pixiedust->cfservicecredentialbrowser)\n",
      "Requirement already up-to-date: mpld3 in /Users/patti/anaconda3/lib/python3.6/site-packages (from pixiedust->cfservicecredentialbrowser)\n",
      "Requirement already up-to-date: six<2.0,>=1.6.1 in /Users/patti/anaconda3/lib/python3.6/site-packages (from astunparse->pixiedust->cfservicecredentialbrowser)\n",
      "Requirement already up-to-date: wheel<1.0,>=0.23.0 in /Users/patti/anaconda3/lib/python3.6/site-packages (from astunparse->pixiedust->cfservicecredentialbrowser)\n",
      "Installing collected packages: cfservicecredentialbrowser\n",
      "  Running setup.py install for cfservicecredentialbrowser ... \u001b[?25ldone\n",
      "\u001b[?25hSuccessfully installed cfservicecredentialbrowser-0.1.0\n"
     ]
    }
   ],
   "source": [
    "!pip install --upgrade git+https://github.com/ptitzler/cf-service-credential-browser.git#egg=cfservicecredentialbrowser"
   ]
  },
  {
   "cell_type": "code",
   "execution_count": 6,
   "metadata": {},
   "outputs": [
    {
     "name": "stdout",
     "output_type": "stream",
     "text": [
      "Uninstalling pixiedust-1.1.9:\n",
      "  Successfully uninstalled pixiedust-1.1.9\n"
     ]
    }
   ],
   "source": [
    "!pip uninstall pixiedust -y"
   ]
  },
  {
   "cell_type": "code",
   "execution_count": 1,
   "metadata": {},
   "outputs": [
    {
     "name": "stdout",
     "output_type": "stream",
     "text": [
      "Collecting pixiedust from git+https://github.com/ibm-watson-data-lab/pixiedust.git#egg=pixiedust\n",
      "  Cloning https://github.com/ibm-watson-data-lab/pixiedust.git to /private/var/folders/cs/560yb9sn0xv9h_gw47z5l1140000gn/T/pip-build-2k4866pk/pixiedust\n",
      "Requirement already satisfied: mpld3 in /Users/patti/anaconda3/lib/python3.6/site-packages (from pixiedust)\n",
      "Requirement already satisfied: lxml in /Users/patti/anaconda3/lib/python3.6/site-packages (from pixiedust)\n",
      "Requirement already satisfied: geojson in /Users/patti/anaconda3/lib/python3.6/site-packages (from pixiedust)\n",
      "Requirement already satisfied: astunparse in /Users/patti/anaconda3/lib/python3.6/site-packages (from pixiedust)\n",
      "Requirement already satisfied: markdown in /Users/patti/anaconda3/lib/python3.6/site-packages (from pixiedust)\n",
      "Requirement already satisfied: six<2.0,>=1.6.1 in /Users/patti/anaconda3/lib/python3.6/site-packages (from astunparse->pixiedust)\n",
      "Requirement already satisfied: wheel<1.0,>=0.23.0 in /Users/patti/anaconda3/lib/python3.6/site-packages (from astunparse->pixiedust)\n",
      "Installing collected packages: pixiedust\n",
      "  Running setup.py install for pixiedust ... \u001b[?25ldone\n",
      "\u001b[?25hSuccessfully installed pixiedust-1.1.9\n"
     ]
    }
   ],
   "source": [
    "!pip install git+https://github.com/ibm-watson-data-lab/pixiedust.git#egg=pixiedust"
   ]
  },
  {
   "cell_type": "code",
   "execution_count": 4,
   "metadata": {},
   "outputs": [
    {
     "name": "stdout",
     "output_type": "stream",
     "text": [
      "Name: pixiedust\r\n",
      "Version: 1.1.9\r\n",
      "Summary: Productivity library for Jupyter Notebook\r\n",
      "Home-page: https://github.com/ibm-watson-data-lab/pixiedust\r\n",
      "Author: David Taieb\r\n",
      "Author-email: david_taieb@us.ibm.com\r\n",
      "License: Apache 2.0\r\n",
      "Location: /Users/patti/anaconda3/lib/python3.6/site-packages\r\n",
      "Requires: mpld3, lxml, geojson, astunparse, markdown\r\n",
      "Files:\r\n",
      "  ../../../bin/jupyter-pixiedust\r\n",
      "  install/__init__.py\r\n",
      "  install/__pycache__/__init__.cpython-36.pyc\r\n",
      "  install/__pycache__/createKernel.cpython-36.pyc\r\n",
      "  install/__pycache__/generate.cpython-36.pyc\r\n",
      "  install/__pycache__/pixiedustapp.cpython-36.pyc\r\n",
      "  install/createKernel.py\r\n",
      "  install/generate.py\r\n",
      "  install/pixiedustapp.py\r\n",
      "  pixiedust-1.1.9-py3.6.egg-info/PKG-INFO\r\n",
      "  pixiedust-1.1.9-py3.6.egg-info/SOURCES.txt\r\n",
      "  pixiedust-1.1.9-py3.6.egg-info/dependency_links.txt\r\n",
      "  pixiedust-1.1.9-py3.6.egg-info/entry_points.txt\r\n",
      "  pixiedust-1.1.9-py3.6.egg-info/not-zip-safe\r\n",
      "  pixiedust-1.1.9-py3.6.egg-info/requires.txt\r\n",
      "  pixiedust-1.1.9-py3.6.egg-info/top_level.txt\r\n",
      "  pixiedust/__init__.py\r\n",
      "  pixiedust/__pycache__/__init__.cpython-36.pyc\r\n",
      "  pixiedust/__pycache__/proxyShell.cpython-36.pyc\r\n",
      "  pixiedust/apps/__init__.py\r\n",
      "  pixiedust/apps/__pycache__/__init__.cpython-36.pyc\r\n",
      "  pixiedust/apps/__pycache__/cfBrowser.cpython-36.pyc\r\n",
      "  pixiedust/apps/__pycache__/cloudantBrowser.cpython-36.pyc\r\n",
      "  pixiedust/apps/__pycache__/connectionWidget.cpython-36.pyc\r\n",
      "  pixiedust/apps/__pycache__/mapboxBase.cpython-36.pyc\r\n",
      "  pixiedust/apps/__pycache__/mongoBrowser.cpython-36.pyc\r\n",
      "  pixiedust/apps/cfBrowser.py\r\n",
      "  pixiedust/apps/cloudantBrowser.py\r\n",
      "  pixiedust/apps/connectionWidget.py\r\n",
      "  pixiedust/apps/debugger/__init__.py\r\n",
      "  pixiedust/apps/debugger/__pycache__/__init__.cpython-36.pyc\r\n",
      "  pixiedust/apps/debugger/__pycache__/pixieDebugger.cpython-36.pyc\r\n",
      "  pixiedust/apps/debugger/pixieDebugger.py\r\n",
      "  pixiedust/apps/debugger/templates/mainScreen.html\r\n",
      "  pixiedust/apps/debugger/templates/toolbar.html\r\n",
      "  pixiedust/apps/gateway/__init__.py\r\n",
      "  pixiedust/apps/gateway/__pycache__/__init__.cpython-36.pyc\r\n",
      "  pixiedust/apps/gateway/__pycache__/publish.cpython-36.pyc\r\n",
      "  pixiedust/apps/gateway/__pycache__/share.cpython-36.pyc\r\n",
      "  pixiedust/apps/gateway/publish.py\r\n",
      "  pixiedust/apps/gateway/share.py\r\n",
      "  pixiedust/apps/gateway/templates/mainOptions.html\r\n",
      "  pixiedust/apps/gateway/templates/publishBasicOptions.html\r\n",
      "  pixiedust/apps/gateway/templates/publishImportOptions.html\r\n",
      "  pixiedust/apps/gateway/templates/publishKernelSpecOptions.html\r\n",
      "  pixiedust/apps/gateway/templates/publishSecurityOptions.html\r\n",
      "  pixiedust/apps/gateway/templates/shareBasicOptions.html\r\n",
      "  pixiedust/apps/gateway/templates/sharePermissionsOptions.html\r\n",
      "  pixiedust/apps/gateway/templates/shareRefreshOptions.html\r\n",
      "  pixiedust/apps/mapboxBase.py\r\n",
      "  pixiedust/apps/messageHub/__init__.py\r\n",
      "  pixiedust/apps/messageHub/__pycache__/__init__.cpython-36.pyc\r\n",
      "  pixiedust/apps/messageHub/__pycache__/messageHubApp.cpython-36.pyc\r\n",
      "  pixiedust/apps/messageHub/messageHubApp.py\r\n",
      "  pixiedust/apps/mongoBrowser.py\r\n",
      "  pixiedust/apps/watsonML/__init__.py\r\n",
      "  pixiedust/apps/watsonML/__pycache__/__init__.cpython-36.pyc\r\n",
      "  pixiedust/apps/watsonML/__pycache__/watsonMLApp.cpython-36.pyc\r\n",
      "  pixiedust/apps/watsonML/watsonMLApp.py\r\n",
      "  pixiedust/display/__init__.py\r\n",
      "  pixiedust/display/__pycache__/__init__.cpython-36.pyc\r\n",
      "  pixiedust/display/__pycache__/display.cpython-36.pyc\r\n",
      "  pixiedust/display/__pycache__/streamingDisplay.cpython-36.pyc\r\n",
      "  pixiedust/display/app/__init__.py\r\n",
      "  pixiedust/display/app/__pycache__/__init__.cpython-36.pyc\r\n",
      "  pixiedust/display/app/__pycache__/pixieapp.cpython-36.pyc\r\n",
      "  pixiedust/display/app/pixieapp.py\r\n",
      "  pixiedust/display/chart/__init__.py\r\n",
      "  pixiedust/display/chart/__pycache__/__init__.cpython-36.pyc\r\n",
      "  pixiedust/display/chart/__pycache__/colorManager.cpython-36.pyc\r\n",
      "  pixiedust/display/chart/__pycache__/display.cpython-36.pyc\r\n",
      "  pixiedust/display/chart/colorManager.py\r\n",
      "  pixiedust/display/chart/display.py\r\n",
      "  pixiedust/display/chart/filter/__init__.py\r\n",
      "  pixiedust/display/chart/filter/__pycache__/__init__.cpython-36.pyc\r\n",
      "  pixiedust/display/chart/filter/__pycache__/filter.cpython-36.pyc\r\n",
      "  pixiedust/display/chart/filter/filter.py\r\n",
      "  pixiedust/display/chart/options/__init__.py\r\n",
      "  pixiedust/display/chart/options/__pycache__/__init__.cpython-36.pyc\r\n",
      "  pixiedust/display/chart/options/__pycache__/baseOptions.cpython-36.pyc\r\n",
      "  pixiedust/display/chart/options/__pycache__/defaultOptions.cpython-36.pyc\r\n",
      "  pixiedust/display/chart/options/__pycache__/optionsShell.cpython-36.pyc\r\n",
      "  pixiedust/display/chart/options/baseOptions.py\r\n",
      "  pixiedust/display/chart/options/components/AggregationSelector.py\r\n",
      "  pixiedust/display/chart/options/components/KeyValueSelector.py\r\n",
      "  pixiedust/display/chart/options/components/RowCount.py\r\n",
      "  pixiedust/display/chart/options/components/TableValueSelector.py\r\n",
      "  pixiedust/display/chart/options/components/__init__.py\r\n",
      "  pixiedust/display/chart/options/components/__pycache__/AggregationSelector.cpython-36.pyc\r\n",
      "  pixiedust/display/chart/options/components/__pycache__/KeyValueSelector.cpython-36.pyc\r\n",
      "  pixiedust/display/chart/options/components/__pycache__/RowCount.cpython-36.pyc\r\n",
      "  pixiedust/display/chart/options/components/__pycache__/TableValueSelector.cpython-36.pyc\r\n",
      "  pixiedust/display/chart/options/components/__pycache__/__init__.cpython-36.pyc\r\n",
      "  pixiedust/display/chart/options/defaultOptions.py\r\n",
      "  pixiedust/display/chart/options/optionsShell.py\r\n",
      "  pixiedust/display/chart/options/templates/keyvalueselector.html\r\n",
      "  pixiedust/display/chart/options/templates/optionsshell.html\r\n",
      "  pixiedust/display/chart/options/templates/tablevalueselector.html\r\n",
      "  pixiedust/display/chart/plugins/__init__.py\r\n",
      "  pixiedust/display/chart/plugins/__pycache__/__init__.cpython-36.pyc\r\n",
      "  pixiedust/display/chart/plugins/__pycache__/chart.cpython-36.pyc\r\n",
      "  pixiedust/display/chart/plugins/__pycache__/dialog.cpython-36.pyc\r\n",
      "  pixiedust/display/chart/plugins/__pycache__/elementInfo.cpython-36.pyc\r\n",
      "  pixiedust/display/chart/plugins/chart.py\r\n",
      "  pixiedust/display/chart/plugins/dialog.py\r\n",
      "  pixiedust/display/chart/plugins/elementInfo.py\r\n",
      "  pixiedust/display/chart/renderers/__init__.py\r\n",
      "  pixiedust/display/chart/renderers/__pycache__/__init__.cpython-36.pyc\r\n",
      "  pixiedust/display/chart/renderers/__pycache__/baseChartDisplay.cpython-36.pyc\r\n",
      "  pixiedust/display/chart/renderers/__pycache__/commonOptions.cpython-36.pyc\r\n",
      "  pixiedust/display/chart/renderers/baseChartDisplay.py\r\n",
      "  pixiedust/display/chart/renderers/bokeh/__init__.py\r\n",
      "  pixiedust/display/chart/renderers/bokeh/__pycache__/__init__.cpython-36.pyc\r\n",
      "  pixiedust/display/chart/renderers/bokeh/__pycache__/bkBarChartDisplay.cpython-36.pyc\r\n",
      "  pixiedust/display/chart/renderers/bokeh/__pycache__/bkHistogramDisplay.cpython-36.pyc\r\n",
      "  pixiedust/display/chart/renderers/bokeh/__pycache__/bkLineChartDisplay.cpython-36.pyc\r\n",
      "  pixiedust/display/chart/renderers/bokeh/__pycache__/bkScatterPlotDisplay.cpython-36.pyc\r\n",
      "  pixiedust/display/chart/renderers/bokeh/__pycache__/bokehBaseDisplay.cpython-36.pyc\r\n",
      "  pixiedust/display/chart/renderers/bokeh/bkBarChartDisplay.py\r\n",
      "  pixiedust/display/chart/renderers/bokeh/bkHistogramDisplay.py\r\n",
      "  pixiedust/display/chart/renderers/bokeh/bkLineChartDisplay.py\r\n",
      "  pixiedust/display/chart/renderers/bokeh/bkScatterPlotDisplay.py\r\n",
      "  pixiedust/display/chart/renderers/bokeh/bokehBaseDisplay.py\r\n",
      "  pixiedust/display/chart/renderers/brunel/__init__.py\r\n",
      "  pixiedust/display/chart/renderers/brunel/__pycache__/__init__.cpython-36.pyc\r\n",
      "  pixiedust/display/chart/renderers/brunel/__pycache__/barChartDisplay.cpython-36.pyc\r\n",
      "  pixiedust/display/chart/renderers/brunel/__pycache__/brunelBaseDisplay.cpython-36.pyc\r\n",
      "  pixiedust/display/chart/renderers/brunel/__pycache__/histogramDisplay.cpython-36.pyc\r\n",
      "  pixiedust/display/chart/renderers/brunel/__pycache__/lineChartDisplay.cpython-36.pyc\r\n",
      "  pixiedust/display/chart/renderers/brunel/__pycache__/mapDisplay.cpython-36.pyc\r\n",
      "  pixiedust/display/chart/renderers/brunel/__pycache__/pieChartDisplay.cpython-36.pyc\r\n",
      "  pixiedust/display/chart/renderers/brunel/__pycache__/scatterPlotDisplay.cpython-36.pyc\r\n",
      "  pixiedust/display/chart/renderers/brunel/barChartDisplay.py\r\n",
      "  pixiedust/display/chart/renderers/brunel/brunelBaseDisplay.py\r\n",
      "  pixiedust/display/chart/renderers/brunel/histogramDisplay.py\r\n",
      "  pixiedust/display/chart/renderers/brunel/lineChartDisplay.py\r\n",
      "  pixiedust/display/chart/renderers/brunel/mapDisplay.py\r\n",
      "  pixiedust/display/chart/renderers/brunel/pieChartDisplay.py\r\n",
      "  pixiedust/display/chart/renderers/brunel/scatterPlotDisplay.py\r\n",
      "  pixiedust/display/chart/renderers/commonOptions.py\r\n",
      "  pixiedust/display/chart/renderers/google/__init__.py\r\n",
      "  pixiedust/display/chart/renderers/google/__pycache__/__init__.cpython-36.pyc\r\n",
      "  pixiedust/display/chart/renderers/google/__pycache__/googleBaseDisplay.cpython-36.pyc\r\n",
      "  pixiedust/display/chart/renderers/google/__pycache__/googleMapDisplay.cpython-36.pyc\r\n",
      "  pixiedust/display/chart/renderers/google/__pycache__/googleMapOptions.cpython-36.pyc\r\n",
      "  pixiedust/display/chart/renderers/google/googleBaseDisplay.py\r\n",
      "  pixiedust/display/chart/renderers/google/googleMapDisplay.py\r\n",
      "  pixiedust/display/chart/renderers/google/googleMapOptions.py\r\n",
      "  pixiedust/display/chart/renderers/google/templates/mapView.html\r\n",
      "  pixiedust/display/chart/renderers/google/templates/mapView.js\r\n",
      "  pixiedust/display/chart/renderers/google/templates/mapViewOptionsDialogBody.html\r\n",
      "  pixiedust/display/chart/renderers/google/templates/noapikey.html\r\n",
      "  pixiedust/display/chart/renderers/google/templates/tokenerror.html\r\n",
      "  pixiedust/display/chart/renderers/mapbox/__init__.py\r\n",
      "  pixiedust/display/chart/renderers/mapbox/__pycache__/__init__.cpython-36.pyc\r\n",
      "  pixiedust/display/chart/renderers/mapbox/__pycache__/mapBoxBaseDisplay.cpython-36.pyc\r\n",
      "  pixiedust/display/chart/renderers/mapbox/__pycache__/mapBoxMapDisplay.cpython-36.pyc\r\n",
      "  pixiedust/display/chart/renderers/mapbox/__pycache__/mapBoxMapDisplayStreaming.cpython-36.pyc\r\n",
      "  pixiedust/display/chart/renderers/mapbox/__pycache__/mapboxOptions.cpython-36.pyc\r\n",
      "  pixiedust/display/chart/renderers/mapbox/mapBoxBaseDisplay.py\r\n",
      "  pixiedust/display/chart/renderers/mapbox/mapBoxMapDisplay.py\r\n",
      "  pixiedust/display/chart/renderers/mapbox/mapBoxMapDisplayStreaming.py\r\n",
      "  pixiedust/display/chart/renderers/mapbox/mapboxOptions.py\r\n",
      "  pixiedust/display/chart/renderers/mapbox/templates/iframesrcdoc.html\r\n",
      "  pixiedust/display/chart/renderers/mapbox/templates/mapView.html\r\n",
      "  pixiedust/display/chart/renderers/mapbox/templates/mapViewOptionsDialogBody.html\r\n",
      "  pixiedust/display/chart/renderers/mapbox/templates/noaccesstoken.html\r\n",
      "  pixiedust/display/chart/renderers/mapbox/templates/tokenerror.html\r\n",
      "  pixiedust/display/chart/renderers/matplotlib/__init__.py\r\n",
      "  pixiedust/display/chart/renderers/matplotlib/__pycache__/__init__.cpython-36.pyc\r\n",
      "  pixiedust/display/chart/renderers/matplotlib/__pycache__/barChartDisplay.cpython-36.pyc\r\n",
      "  pixiedust/display/chart/renderers/matplotlib/__pycache__/histogramDisplay.cpython-36.pyc\r\n",
      "  pixiedust/display/chart/renderers/matplotlib/__pycache__/lineChartDisplay.cpython-36.pyc\r\n",
      "  pixiedust/display/chart/renderers/matplotlib/__pycache__/matplotlibBaseDisplay.cpython-36.pyc\r\n",
      "  pixiedust/display/chart/renderers/matplotlib/__pycache__/pieChartDisplay.cpython-36.pyc\r\n",
      "  pixiedust/display/chart/renderers/matplotlib/__pycache__/scatterPlotDisplay.cpython-36.pyc\r\n",
      "  pixiedust/display/chart/renderers/matplotlib/barChartDisplay.py\r\n",
      "  pixiedust/display/chart/renderers/matplotlib/histogramDisplay.py\r\n",
      "  pixiedust/display/chart/renderers/matplotlib/lineChartDisplay.py\r\n",
      "  pixiedust/display/chart/renderers/matplotlib/matplotlibBaseDisplay.py\r\n",
      "  pixiedust/display/chart/renderers/matplotlib/pieChartDisplay.py\r\n",
      "  pixiedust/display/chart/renderers/matplotlib/scatterPlotDisplay.py\r\n",
      "  pixiedust/display/chart/renderers/seaborn/__init__.py\r\n",
      "  pixiedust/display/chart/renderers/seaborn/__pycache__/__init__.cpython-36.pyc\r\n",
      "  pixiedust/display/chart/renderers/seaborn/__pycache__/sbBarChartDisplay.cpython-36.pyc\r\n",
      "  pixiedust/display/chart/renderers/seaborn/__pycache__/sbHistogramDisplay.cpython-36.pyc\r\n",
      "  pixiedust/display/chart/renderers/seaborn/__pycache__/scatterPlotDisplay.cpython-36.pyc\r\n",
      "  pixiedust/display/chart/renderers/seaborn/__pycache__/seabornBaseDisplay.cpython-36.pyc\r\n",
      "  pixiedust/display/chart/renderers/seaborn/sbBarChartDisplay.py\r\n",
      "  pixiedust/display/chart/renderers/seaborn/sbHistogramDisplay.py\r\n",
      "  pixiedust/display/chart/renderers/seaborn/scatterPlotDisplay.py\r\n",
      "  pixiedust/display/chart/renderers/seaborn/seabornBaseDisplay.py\r\n",
      "  pixiedust/display/chart/renderers/table/TableBaseDisplay.py\r\n",
      "  pixiedust/display/chart/renderers/table/TableDisplay.py\r\n",
      "  pixiedust/display/chart/renderers/table/__init__.py\r\n",
      "  pixiedust/display/chart/renderers/table/__pycache__/TableBaseDisplay.cpython-36.pyc\r\n",
      "  pixiedust/display/chart/renderers/table/__pycache__/TableDisplay.cpython-36.pyc\r\n",
      "  pixiedust/display/chart/renderers/table/__pycache__/__init__.cpython-36.pyc\r\n",
      "  pixiedust/display/chart/renderers/table/__pycache__/tableOptions.cpython-36.pyc\r\n",
      "  pixiedust/display/chart/renderers/table/tableOptions.py\r\n",
      "  pixiedust/display/chart/renderers/table/templates/table.html\r\n",
      "  pixiedust/display/chart/renderers/templates/barChartOptionsDialogBody.html\r\n",
      "  pixiedust/display/chart/renderers/templates/baseChartOptionsDialogBody.html\r\n",
      "  pixiedust/display/chart/renderers/templates/chartError.html\r\n",
      "  pixiedust/display/chart/renderers/templates/chartHeader.html\r\n",
      "  pixiedust/display/chart/renderers/templates/chartOptions.dialog\r\n",
      "  pixiedust/display/chart/renderers/templates/chartOptionsDialogOnOK.js\r\n",
      "  pixiedust/display/chart/renderers/templates/chartOptionsDialogPlugin.js\r\n",
      "  pixiedust/display/chart/renderers/templates/chartPlugin.js\r\n",
      "  pixiedust/display/chart/renderers/templates/renderer.html\r\n",
      "  pixiedust/display/datahandler/__init__.py\r\n",
      "  pixiedust/display/datahandler/__pycache__/__init__.cpython-36.pyc\r\n",
      "  pixiedust/display/datahandler/__pycache__/baseDataHandler.cpython-36.pyc\r\n",
      "  pixiedust/display/datahandler/__pycache__/jsonDataHandler.cpython-36.pyc\r\n",
      "  pixiedust/display/datahandler/__pycache__/pandasDataFrameHandler.cpython-36.pyc\r\n",
      "  pixiedust/display/datahandler/__pycache__/pysparkDataFrameHandler.cpython-36.pyc\r\n",
      "  pixiedust/display/datahandler/baseDataHandler.py\r\n",
      "  pixiedust/display/datahandler/jsonDataHandler.py\r\n",
      "  pixiedust/display/datahandler/pandasDataFrameHandler.py\r\n",
      "  pixiedust/display/datahandler/pysparkDataFrameHandler.py\r\n",
      "  pixiedust/display/display.py\r\n",
      "  pixiedust/display/download/__init__.py\r\n",
      "  pixiedust/display/download/__pycache__/__init__.cpython-36.pyc\r\n",
      "  pixiedust/display/download/__pycache__/downloadFile.cpython-36.pyc\r\n",
      "  pixiedust/display/download/downloadFile.py\r\n",
      "  pixiedust/display/download/templates/downloadFile.html\r\n",
      "  pixiedust/display/graph/__init__.py\r\n",
      "  pixiedust/display/graph/__pycache__/__init__.cpython-36.pyc\r\n",
      "  pixiedust/display/graph/__pycache__/display.cpython-36.pyc\r\n",
      "  pixiedust/display/graph/display.py\r\n",
      "  pixiedust/display/graph/templates/graph.html\r\n",
      "  pixiedust/display/graph/templates/graphDirected.js\r\n",
      "  pixiedust/display/graph/templates/graphMap.html\r\n"
     ]
    },
    {
     "name": "stdout",
     "output_type": "stream",
     "text": [
      "  pixiedust/display/graph/templates/graphMap.js\r\n",
      "  pixiedust/display/graph/templates/graphTree.js\r\n",
      "  pixiedust/display/streaming/__init__.py\r\n",
      "  pixiedust/display/streaming/__pycache__/__init__.cpython-36.pyc\r\n",
      "  pixiedust/display/streaming/__pycache__/streamingDataHandler.cpython-36.pyc\r\n",
      "  pixiedust/display/streaming/bokeh/__init__.py\r\n",
      "  pixiedust/display/streaming/bokeh/__pycache__/__init__.cpython-36.pyc\r\n",
      "  pixiedust/display/streaming/bokeh/__pycache__/baseStreamingDisplay.cpython-36.pyc\r\n",
      "  pixiedust/display/streaming/bokeh/__pycache__/lineChartStreamingDisplay.cpython-36.pyc\r\n",
      "  pixiedust/display/streaming/bokeh/__pycache__/scatterPlotStreamingDisplay.cpython-36.pyc\r\n",
      "  pixiedust/display/streaming/bokeh/baseStreamingDisplay.py\r\n",
      "  pixiedust/display/streaming/bokeh/lineChartStreamingDisplay.py\r\n",
      "  pixiedust/display/streaming/bokeh/scatterPlotStreamingDisplay.py\r\n",
      "  pixiedust/display/streaming/data/__init__.py\r\n",
      "  pixiedust/display/streaming/data/__pycache__/__init__.cpython-36.pyc\r\n",
      "  pixiedust/display/streaming/data/__pycache__/messageHub.cpython-36.pyc\r\n",
      "  pixiedust/display/streaming/data/__pycache__/messageHubConfluent.cpython-36.pyc\r\n",
      "  pixiedust/display/streaming/data/messageHub.py\r\n",
      "  pixiedust/display/streaming/data/messageHubConfluent.py\r\n",
      "  pixiedust/display/streaming/streamingDataHandler.py\r\n",
      "  pixiedust/display/streamingDisplay.py\r\n",
      "  pixiedust/display/table/__init__.py\r\n",
      "  pixiedust/display/table/__pycache__/__init__.cpython-36.pyc\r\n",
      "  pixiedust/display/table/__pycache__/display.cpython-36.pyc\r\n",
      "  pixiedust/display/table/display.py\r\n",
      "  pixiedust/display/table/templates/dataframeTable.html\r\n",
      "  pixiedust/display/templates/addScriptCode.js\r\n",
      "  pixiedust/display/templates/addScriptElements.js\r\n",
      "  pixiedust/display/templates/basedialog.html\r\n",
      "  pixiedust/display/templates/cellOutput.html\r\n",
      "  pixiedust/display/templates/commonExecuteCallback.js\r\n",
      "  pixiedust/display/templates/executePythonDisplayMacro.js\r\n",
      "  pixiedust/display/templates/executePythonDisplayScript.js\r\n",
      "  pixiedust/display/templates/fixCommand.js\r\n",
      "  pixiedust/display/templates/geojson-extent.js\r\n",
      "  pixiedust/display/templates/handshake.html\r\n",
      "  pixiedust/display/templates/pd_executeDisplay.js\r\n",
      "  pixiedust/display/templates/pixiedust.css\r\n",
      "  pixiedust/display/templates/pixiedust.js\r\n",
      "  pixiedust/display/templates/utils.js\r\n",
      "  pixiedust/display/tests/__init__.py\r\n",
      "  pixiedust/display/tests/__pycache__/__init__.cpython-36.pyc\r\n",
      "  pixiedust/display/tests/__pycache__/test1.cpython-36.pyc\r\n",
      "  pixiedust/display/tests/__pycache__/test2.cpython-36.pyc\r\n",
      "  pixiedust/display/tests/test1.py\r\n",
      "  pixiedust/display/tests/test2.py\r\n",
      "  pixiedust/packageManager/__init__.py\r\n",
      "  pixiedust/packageManager/__pycache__/__init__.cpython-36.pyc\r\n",
      "  pixiedust/packageManager/__pycache__/downloader.cpython-36.pyc\r\n",
      "  pixiedust/packageManager/__pycache__/package.cpython-36.pyc\r\n",
      "  pixiedust/packageManager/__pycache__/packageManager.cpython-36.pyc\r\n",
      "  pixiedust/packageManager/downloader.py\r\n",
      "  pixiedust/packageManager/package.py\r\n",
      "  pixiedust/packageManager/packageManager.py\r\n",
      "  pixiedust/proxyShell.py\r\n",
      "  pixiedust/services/__init__.py\r\n",
      "  pixiedust/services/__pycache__/__init__.cpython-36.pyc\r\n",
      "  pixiedust/services/__pycache__/serviceManager.cpython-36.pyc\r\n",
      "  pixiedust/services/__pycache__/stashCloudant.cpython-36.pyc\r\n",
      "  pixiedust/services/__pycache__/stashSwift.cpython-36.pyc\r\n",
      "  pixiedust/services/serviceManager.py\r\n",
      "  pixiedust/services/stashCloudant.py\r\n",
      "  pixiedust/services/stashSwift.py\r\n",
      "  pixiedust/services/templates/editConnection.dialog\r\n",
      "  pixiedust/services/templates/listConnections.html\r\n",
      "  pixiedust/services/templates/stashCloudant.html\r\n",
      "  pixiedust/utils/__init__.py\r\n",
      "  pixiedust/utils/__pycache__/__init__.cpython-36.pyc\r\n",
      "  pixiedust/utils/__pycache__/astParse.cpython-36.pyc\r\n",
      "  pixiedust/utils/__pycache__/constants.cpython-36.pyc\r\n",
      "  pixiedust/utils/__pycache__/dataFrameAdapter.cpython-36.pyc\r\n",
      "  pixiedust/utils/__pycache__/dataFrameMisc.cpython-36.pyc\r\n",
      "  pixiedust/utils/__pycache__/environment.cpython-36.pyc\r\n",
      "  pixiedust/utils/__pycache__/javaBridge.cpython-36.pyc\r\n",
      "  pixiedust/utils/__pycache__/pdLogging.cpython-36.pyc\r\n",
      "  pixiedust/utils/__pycache__/printEx.cpython-36.pyc\r\n",
      "  pixiedust/utils/__pycache__/sampleData.cpython-36.pyc\r\n",
      "  pixiedust/utils/__pycache__/scalaBridge.cpython-36.pyc\r\n",
      "  pixiedust/utils/__pycache__/shellAccess.cpython-36.pyc\r\n",
      "  pixiedust/utils/__pycache__/sparkJobProgressMonitor.cpython-36.pyc\r\n",
      "  pixiedust/utils/__pycache__/storage.cpython-36.pyc\r\n",
      "  pixiedust/utils/__pycache__/template.cpython-36.pyc\r\n",
      "  pixiedust/utils/__pycache__/userPreferences.cpython-36.pyc\r\n",
      "  pixiedust/utils/astParse.py\r\n",
      "  pixiedust/utils/constants.py\r\n",
      "  pixiedust/utils/dataFrameAdapter.py\r\n",
      "  pixiedust/utils/dataFrameMisc.py\r\n",
      "  pixiedust/utils/environment.py\r\n",
      "  pixiedust/utils/javaBridge.py\r\n",
      "  pixiedust/utils/pdLogging.py\r\n",
      "  pixiedust/utils/printEx.py\r\n",
      "  pixiedust/utils/resources/pixiedust.jar\r\n",
      "  pixiedust/utils/sampleData.py\r\n",
      "  pixiedust/utils/scalaBridge.py\r\n",
      "  pixiedust/utils/shellAccess.py\r\n",
      "  pixiedust/utils/sparkJobProgressMonitor.py\r\n",
      "  pixiedust/utils/storage.py\r\n",
      "  pixiedust/utils/template.py\r\n",
      "  pixiedust/utils/templates/sampleData.html\r\n",
      "  pixiedust/utils/templates/scalaCell.template\r\n",
      "  pixiedust/utils/templates/sparkJobProgressMonitor/addJobTab.js\r\n",
      "  pixiedust/utils/templates/sparkJobProgressMonitor/addSparkListener.scala\r\n",
      "  pixiedust/utils/templates/sparkJobProgressMonitor/emptyTabs.js\r\n",
      "  pixiedust/utils/templates/sparkJobProgressMonitor/jobEnded.js\r\n",
      "  pixiedust/utils/templates/sparkJobProgressMonitor/pmLayout.html\r\n",
      "  pixiedust/utils/templates/sparkJobProgressMonitor/taskStart.js\r\n",
      "  pixiedust/utils/templates/sparkJobProgressMonitor/updateStageStatus.js\r\n",
      "  pixiedust/utils/userPreferences.py\r\n"
     ]
    }
   ],
   "source": [
    "!pip show -f pixiedust"
   ]
  },
  {
   "cell_type": "code",
   "execution_count": 5,
   "metadata": {},
   "outputs": [
    {
     "name": "stdout",
     "output_type": "stream",
     "text": [
      "[Errno 2] No such file or directory: '/private/var/folders/cs/560yb9sn0xv9h_gw47z5l1140000gn/T/pip-build-2k4866pk/pixiedust'\n",
      "/Users/patti/test/cred_collector/cf-service-credential-browser/notebooks\n"
     ]
    }
   ],
   "source": [
    "cd /private/var/folders/cs/560yb9sn0xv9h_gw47z5l1140000gn/T/pip-build-2k4866pk/pixiedust\n"
   ]
  },
  {
   "cell_type": "code",
   "execution_count": 4,
   "metadata": {},
   "outputs": [
    {
     "name": "stdout",
     "output_type": "stream",
     "text": [
      "Name: cfservicecredentialbrowser\r\n",
      "Version: 0.1.0\r\n",
      "Summary: IBM Cloud services credentials explorer\r\n",
      "Home-page: https://github.com/ptitzler/cf-service-credential-browser\r\n",
      "Author: Patrick Titzler\r\n",
      "Author-email: ptitzler@us.ibm.com\r\n",
      "License: Apache 2.0\r\n",
      "Location: /Users/patti/anaconda3/lib/python3.6/site-packages\r\n",
      "Requires: pixiedust\r\n",
      "Files:\r\n",
      "  cfservicecredentialbrowser-0.1.0-py3.6.egg-info/PKG-INFO\r\n",
      "  cfservicecredentialbrowser-0.1.0-py3.6.egg-info/SOURCES.txt\r\n",
      "  cfservicecredentialbrowser-0.1.0-py3.6.egg-info/dependency_links.txt\r\n",
      "  cfservicecredentialbrowser-0.1.0-py3.6.egg-info/not-zip-safe\r\n",
      "  cfservicecredentialbrowser-0.1.0-py3.6.egg-info/requires.txt\r\n",
      "  cfservicecredentialbrowser-0.1.0-py3.6.egg-info/top_level.txt\r\n"
     ]
    }
   ],
   "source": [
    "!pip show -f cfservicecredentialbrowser"
   ]
  },
  {
   "cell_type": "code",
   "execution_count": null,
   "metadata": {},
   "outputs": [],
   "source": [
    "import sys\n",
    "print(sys.path)"
   ]
  },
  {
   "cell_type": "code",
   "execution_count": null,
   "metadata": {
    "collapsed": true
   },
   "outputs": [],
   "source": []
  },
  {
   "cell_type": "code",
   "execution_count": null,
   "metadata": {
    "collapsed": true
   },
   "outputs": [],
   "source": [
    "# define either \n",
    "ibm_cloud_user_api_token = None\n",
    "# or\n",
    "ibmid = None\n",
    "password = None\n",
    "# if an api token was specified it takes precendence over ibmid/password"
   ]
  },
  {
   "cell_type": "code",
   "execution_count": 2,
   "metadata": {
    "pixiedust": {
     "displayParams": {}
    }
   },
   "outputs": [
    {
     "ename": "ModuleNotFoundError",
     "evalue": "No module named 'cfservicecredentialbrowser'",
     "output_type": "error",
     "traceback": [
      "\u001b[0;31m---------------------------------------------------------------------------\u001b[0m",
      "\u001b[0;31mModuleNotFoundError\u001b[0m                       Traceback (most recent call last)",
      "\u001b[0;32m<ipython-input-2-25131c462604>\u001b[0m in \u001b[0;36m<module>\u001b[0;34m()\u001b[0m\n\u001b[0;32m----> 1\u001b[0;31m \u001b[0;32mfrom\u001b[0m \u001b[0mcfservicecredentialbrowser\u001b[0m \u001b[0;32mimport\u001b[0m \u001b[0mcfsbrowser\u001b[0m\u001b[0;34m\u001b[0m\u001b[0m\n\u001b[0m\u001b[1;32m      2\u001b[0m \u001b[0mb\u001b[0m \u001b[0;34m=\u001b[0m \u001b[0mcfsbrowser\u001b[0m\u001b[0;34m.\u001b[0m\u001b[0mBrowser\u001b[0m\u001b[0;34m(\u001b[0m\u001b[0mibm_cloud_user_api_token\u001b[0m\u001b[0;34m=\u001b[0m\u001b[0mibm_cloud_user_api_token\u001b[0m\u001b[0;34m)\u001b[0m\u001b[0;34m\u001b[0m\u001b[0m\n",
      "\u001b[0;31mModuleNotFoundError\u001b[0m: No module named 'cfservicecredentialbrowser'"
     ]
    }
   ],
   "source": [
    "from cfservicecredentialbrowser import cfsbrowser\n",
    "b = cfsbrowser.Browser(ibm_cloud_user_api_token=ibm_cloud_user_api_token)\n"
   ]
  },
  {
   "cell_type": "code",
   "execution_count": null,
   "metadata": {
    "collapsed": true
   },
   "outputs": [],
   "source": []
  },
  {
   "cell_type": "code",
   "execution_count": 6,
   "metadata": {},
   "outputs": [
    {
     "name": "stdout",
     "output_type": "stream",
     "text": [
      "Collecting git+https://github.com/IBM-Cloud/cf-deployment-tracker-client-python.git\n",
      "  Cloning https://github.com/IBM-Cloud/cf-deployment-tracker-client-python.git to /private/var/folders/cs/560yb9sn0xv9h_gw47z5l1140000gn/T/pip-gcsnvxse-build\n",
      "Installing collected packages: cf-deployment-tracker\n",
      "  Running setup.py install for cf-deployment-tracker ... \u001b[?25ldone\n",
      "\u001b[?25hSuccessfully installed cf-deployment-tracker-1.0.5\n"
     ]
    }
   ],
   "source": [
    "!pip install --upgrade git+https://github.com/IBM-Cloud/cf-deployment-tracker-client-python.git"
   ]
  },
  {
   "cell_type": "code",
   "execution_count": 7,
   "metadata": {},
   "outputs": [
    {
     "name": "stdout",
     "output_type": "stream",
     "text": [
      "Name: cf-deployment-tracker\r\n",
      "Version: 1.0.5\r\n",
      "Summary: Python client for the Cloud Foundry deployment tracker\r\n",
      "Home-page: https://github.com/IBM-Bluemix/cf-deployment-tracker-client-python\r\n",
      "Author: Jake Peyser\r\n",
      "Author-email: jepeyser@us.ibm.com\r\n",
      "License: Apache-2.0\r\n",
      "Location: /Users/patti/anaconda3/lib/python3.6/site-packages\r\n",
      "Requires: \r\n",
      "Files:\r\n",
      "  cf_deployment_tracker-1.0.5-py3.6.egg-info/PKG-INFO\r\n",
      "  cf_deployment_tracker-1.0.5-py3.6.egg-info/SOURCES.txt\r\n",
      "  cf_deployment_tracker-1.0.5-py3.6.egg-info/dependency_links.txt\r\n",
      "  cf_deployment_tracker-1.0.5-py3.6.egg-info/top_level.txt\r\n",
      "  cf_deployment_tracker/__init__.py\r\n",
      "  cf_deployment_tracker/__pycache__/__init__.cpython-36.pyc\r\n"
     ]
    }
   ],
   "source": [
    "!pip show -f cf-deployment-tracker"
   ]
  },
  {
   "cell_type": "code",
   "execution_count": 11,
   "metadata": {},
   "outputs": [],
   "source": [
    " import cf_deployment_tracker"
   ]
  },
  {
   "cell_type": "code",
   "execution_count": 12,
   "metadata": {},
   "outputs": [
    {
     "name": "stdout",
     "output_type": "stream",
     "text": [
      "Help on package cf_deployment_tracker:\n",
      "\n",
      "NAME\n",
      "    cf_deployment_tracker\n",
      "\n",
      "PACKAGE CONTENTS\n",
      "\n",
      "\n",
      "FUNCTIONS\n",
      "    track(tracker_url=None)\n",
      "\n",
      "FILE\n",
      "    /Users/patti/anaconda3/lib/python3.6/site-packages/cf_deployment_tracker/__init__.py\n",
      "\n",
      "\n"
     ]
    }
   ],
   "source": [
    "help(cf_deployment_tracker)"
   ]
  },
  {
   "cell_type": "code",
   "execution_count": null,
   "metadata": {
    "collapsed": true
   },
   "outputs": [],
   "source": []
  }
 ],
 "metadata": {
  "anaconda-cloud": {},
  "kernelspec": {
   "display_name": "Python 3",
   "language": "python",
   "name": "python3"
  },
  "language_info": {
   "codemirror_mode": {
    "name": "ipython",
    "version": 3
   },
   "file_extension": ".py",
   "mimetype": "text/x-python",
   "name": "python",
   "nbconvert_exporter": "python",
   "pygments_lexer": "ipython3",
   "version": "3.6.3"
  }
 },
 "nbformat": 4,
 "nbformat_minor": 1
}
