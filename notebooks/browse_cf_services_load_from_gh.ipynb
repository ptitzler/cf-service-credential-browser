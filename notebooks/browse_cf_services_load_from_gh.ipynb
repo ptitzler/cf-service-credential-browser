{
 "cells": [
  {
   "cell_type": "code",
   "execution_count": null,
   "metadata": {
    "collapsed": true
   },
   "outputs": [],
   "source": [
    "# Upgrade to latest PixieDust version\n",
    "!pip install --upgrade \"pixiedust>=1.1.9\""
   ]
  },
  {
   "cell_type": "code",
   "execution_count": 1,
   "metadata": {
    "scrolled": true
   },
   "outputs": [
    {
     "name": "stdout",
     "output_type": "stream",
     "text": [
      "Collecting cfservicecredentialbrowser from git+https://github.com/ptitzler/cf-service-credential-browser.git@wpackages#egg=cfservicecredentialbrowser\n",
      "  Cloning https://github.com/ptitzler/cf-service-credential-browser.git (to wpackages) to /private/var/folders/cs/560yb9sn0xv9h_gw47z5l1140000gn/T/pip-build-61ne6ui6/cfservicecredentialbrowser\n",
      "Requirement already up-to-date: pixiedust in /Users/patti/anaconda3/lib/python3.6/site-packages (from cfservicecredentialbrowser)\n",
      "Collecting pandas (from cfservicecredentialbrowser)\n",
      "  Downloading pandas-0.22.0-cp36-cp36m-macosx_10_6_intel.macosx_10_9_intel.macosx_10_9_x86_64.macosx_10_10_intel.macosx_10_10_x86_64.whl (14.9MB)\n",
      "\u001b[K    100% |████████████████████████████████| 14.9MB 116kB/s ta 0:00:011\n",
      "\u001b[?25hRequirement already up-to-date: requests in /Users/patti/anaconda3/lib/python3.6/site-packages (from cfservicecredentialbrowser)\n",
      "Collecting urllib (from cfservicecredentialbrowser)\n",
      "\u001b[31m  Could not find a version that satisfies the requirement urllib (from cfservicecredentialbrowser) (from versions: )\u001b[0m\n",
      "\u001b[31mNo matching distribution found for urllib (from cfservicecredentialbrowser)\u001b[0m\n"
     ]
    }
   ],
   "source": [
    "!pip install --upgrade git+https://github.com/ptitzler/cf-service-credential-browser.git@wpackages#egg=cfservicecredentialbrowser"
   ]
  },
  {
   "cell_type": "code",
   "execution_count": null,
   "metadata": {},
   "outputs": [],
   "source": [
    "!pip show -f cfservicecredentialbrowser"
   ]
  },
  {
   "cell_type": "code",
   "execution_count": null,
   "metadata": {
    "collapsed": true
   },
   "outputs": [],
   "source": [
    "import sys\n",
    "print(sys.path)"
   ]
  },
  {
   "cell_type": "code",
   "execution_count": null,
   "metadata": {
    "collapsed": true
   },
   "outputs": [],
   "source": [
    "# define either \n",
    "ibm_cloud_user_api_token = None\n",
    "# or\n",
    "ibmid = None\n",
    "password = None\n",
    "# if an api token was specified it takes precendence over ibmid/password"
   ]
  },
  {
   "cell_type": "code",
   "execution_count": null,
   "metadata": {
    "pixiedust": {
     "displayParams": {}
    }
   },
   "outputs": [],
   "source": [
    "from cfservicecredentialbrowser import cfsbrowser\n",
    "b = cfsbrowser.Browser(ibm_cloud_user_api_token=ibm_cloud_user_api_token)"
   ]
  },
  {
   "cell_type": "code",
   "execution_count": null,
   "metadata": {
    "collapsed": true
   },
   "outputs": [],
   "source": [
    "import pixiedust\n",
    "df = b.getPandasDataFrame()\n",
    "display(df)"
   ]
  }
 ],
 "metadata": {
  "anaconda-cloud": {},
  "kernelspec": {
   "display_name": "Python 3",
   "language": "python",
   "name": "python3"
  },
  "language_info": {
   "codemirror_mode": {
    "name": "ipython",
    "version": 3
   },
   "file_extension": ".py",
   "mimetype": "text/x-python",
   "name": "python",
   "nbconvert_exporter": "python",
   "pygments_lexer": "ipython3",
   "version": "3.6.3"
  }
 },
 "nbformat": 4,
 "nbformat_minor": 1
}
