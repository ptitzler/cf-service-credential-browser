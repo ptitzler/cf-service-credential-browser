{
 "cells": [
  {
   "cell_type": "code",
   "execution_count": null,
   "metadata": {
    "collapsed": true
   },
   "outputs": [],
   "source": [
    "# Upgrade to latest PixieDust version\n",
    "!pip install --upgrade \"pixiedust>=1.1.9\""
   ]
  },
  {
   "cell_type": "code",
   "execution_count": 5,
   "metadata": {},
   "outputs": [
    {
     "name": "stdout",
     "output_type": "stream",
     "text": [
      "\u001b[31mDEPRECATION: The default format will switch to columns in the future. You can use --format=(legacy|columns) (or define a format=(legacy|columns) in your pip.conf under the [list] section) to disable this warning.\u001b[0m\r\n",
      "alabaster (0.7.10)\r\n",
      "anaconda-client (1.6.5)\r\n",
      "anaconda-navigator (1.6.9)\r\n",
      "anaconda-project (0.8.0)\r\n",
      "appnope (0.1.0)\r\n",
      "appscript (1.0.1)\r\n",
      "asn1crypto (0.22.0)\r\n",
      "astroid (1.5.3)\r\n",
      "astropy (2.0.2)\r\n",
      "astunparse (1.5.0)\r\n",
      "Babel (2.5.0)\r\n",
      "backports.shutil-get-terminal-size (1.0.0)\r\n",
      "beautifulsoup4 (4.6.0)\r\n",
      "bitarray (0.8.1)\r\n",
      "bkcharts (0.2)\r\n",
      "blaze (0.11.3)\r\n",
      "bleach (2.0.0)\r\n",
      "bokeh (0.12.10)\r\n",
      "boto (2.48.0)\r\n",
      "Bottleneck (1.2.1)\r\n",
      "certifi (2017.7.27.1)\r\n",
      "cffi (1.10.0)\r\n",
      "cfservicecredentialbrowser (0.1.0)\r\n",
      "chardet (3.0.4)\r\n",
      "click (6.7)\r\n",
      "cloudpickle (0.4.0)\r\n",
      "clyent (1.2.2)\r\n",
      "colorama (0.3.9)\r\n",
      "conda (4.3.30)\r\n",
      "conda-build (3.0.27)\r\n",
      "conda-verify (2.0.0)\r\n",
      "contextlib2 (0.5.5)\r\n",
      "cryptography (2.0.3)\r\n",
      "cycler (0.10.0)\r\n",
      "Cython (0.26.1)\r\n",
      "cytoolz (0.8.2)\r\n",
      "dask (0.15.3)\r\n",
      "datashape (0.5.4)\r\n",
      "decorator (4.1.2)\r\n",
      "distributed (1.19.1)\r\n",
      "docutils (0.14)\r\n",
      "entrypoints (0.2.3)\r\n",
      "et-xmlfile (1.0.1)\r\n",
      "fastcache (1.0.2)\r\n",
      "filelock (2.0.12)\r\n",
      "Flask (0.12.2)\r\n",
      "Flask-Cors (3.0.3)\r\n",
      "geojson (2.3.0)\r\n",
      "gevent (1.2.2)\r\n",
      "glob2 (0.5)\r\n",
      "gmpy2 (2.0.8)\r\n",
      "greenlet (0.4.12)\r\n",
      "h5py (2.7.0)\r\n",
      "heapdict (1.0.0)\r\n",
      "html5lib (0.999999999)\r\n",
      "idna (2.6)\r\n",
      "imageio (2.2.0)\r\n",
      "imagesize (0.7.1)\r\n",
      "ipykernel (4.6.1)\r\n",
      "ipython (6.1.0)\r\n",
      "ipython-genutils (0.2.0)\r\n",
      "ipywidgets (7.0.0)\r\n",
      "isort (4.2.15)\r\n",
      "itsdangerous (0.24)\r\n",
      "jdcal (1.3)\r\n",
      "jedi (0.10.2)\r\n",
      "Jinja2 (2.9.6)\r\n",
      "jsonschema (2.6.0)\r\n",
      "jupyter-client (5.1.0)\r\n",
      "jupyter-console (5.2.0)\r\n",
      "jupyter-core (4.3.0)\r\n",
      "jupyterlab (0.27.0)\r\n",
      "jupyterlab-launcher (0.4.0)\r\n",
      "lazy-object-proxy (1.3.1)\r\n",
      "llvmlite (0.20.0)\r\n",
      "locket (0.2.0)\r\n",
      "lxml (4.2.0)\r\n",
      "Markdown (2.6.11)\r\n",
      "MarkupSafe (1.0)\r\n",
      "matplotlib (2.1.0)\r\n",
      "mccabe (0.6.1)\r\n",
      "mistune (0.7.4)\r\n",
      "mpld3 (0.3)\r\n",
      "mpmath (0.19)\r\n",
      "msgpack-python (0.4.8)\r\n",
      "multipledispatch (0.4.9)\r\n",
      "navigator-updater (0.1.0)\r\n",
      "nbconvert (5.3.1)\r\n",
      "nbformat (4.4.0)\r\n",
      "networkx (2.0)\r\n",
      "nltk (3.2.4)\r\n",
      "nose (1.3.7)\r\n",
      "notebook (5.0.0)\r\n",
      "numba (0.35.0+6.gaa35fb1)\r\n",
      "numexpr (2.6.2)\r\n",
      "numpy (1.13.3)\r\n",
      "numpydoc (0.7.0)\r\n",
      "odo (0.5.1)\r\n",
      "olefile (0.44)\r\n",
      "openpyxl (2.4.8)\r\n",
      "packaging (16.8)\r\n",
      "pandas (0.20.3)\r\n",
      "pandocfilters (1.4.2)\r\n",
      "partd (0.3.8)\r\n",
      "path.py (10.3.1)\r\n",
      "pathlib2 (2.3.0)\r\n",
      "patsy (0.4.1)\r\n",
      "pep8 (1.7.0)\r\n",
      "pexpect (4.2.1)\r\n",
      "pickleshare (0.7.4)\r\n",
      "Pillow (4.2.1)\r\n",
      "pip (9.0.1)\r\n",
      "pixiedust (1.1.9)\r\n",
      "pkginfo (1.4.1)\r\n",
      "ply (3.10)\r\n",
      "prompt-toolkit (1.0.15)\r\n",
      "psutil (5.4.0)\r\n",
      "ptyprocess (0.5.2)\r\n",
      "py (1.4.34)\r\n",
      "pycodestyle (2.3.1)\r\n",
      "pycosat (0.6.2)\r\n",
      "pycparser (2.18)\r\n",
      "pycrypto (2.6.1)\r\n",
      "pycurl (7.43.0)\r\n",
      "pyflakes (1.6.0)\r\n",
      "Pygments (2.2.0)\r\n",
      "pylint (1.7.4)\r\n",
      "pyodbc (4.0.17)\r\n",
      "pyOpenSSL (17.2.0)\r\n",
      "pyparsing (2.2.0)\r\n",
      "PySocks (1.6.7)\r\n",
      "pytest (3.2.1)\r\n",
      "python-dateutil (2.6.1)\r\n",
      "pytz (2017.2)\r\n",
      "PyWavelets (0.5.2)\r\n",
      "PyYAML (3.12)\r\n",
      "pyzmq (16.0.2)\r\n",
      "QtAwesome (0.4.4)\r\n",
      "qtconsole (4.3.1)\r\n",
      "QtPy (1.3.1)\r\n",
      "requests (2.18.4)\r\n",
      "rope (0.10.5)\r\n",
      "ruamel-yaml (0.11.14)\r\n",
      "scikit-image (0.13.0)\r\n",
      "scikit-learn (0.19.1)\r\n",
      "scipy (0.19.1)\r\n",
      "seaborn (0.8)\r\n",
      "setuptools (36.5.0.post20170921)\r\n",
      "simplegeneric (0.8.1)\r\n",
      "singledispatch (3.4.0.3)\r\n",
      "six (1.11.0)\r\n",
      "snowballstemmer (1.2.1)\r\n",
      "sortedcollections (0.5.3)\r\n",
      "sortedcontainers (1.5.7)\r\n",
      "Sphinx (1.6.3)\r\n",
      "sphinxcontrib-websupport (1.0.1)\r\n",
      "spyder (3.2.4)\r\n",
      "SQLAlchemy (1.1.13)\r\n",
      "statsmodels (0.8.0)\r\n",
      "sympy (1.1.1)\r\n",
      "tables (3.4.2)\r\n",
      "tblib (1.3.2)\r\n",
      "terminado (0.6)\r\n",
      "testpath (0.3.1)\r\n",
      "toolz (0.8.2)\r\n",
      "tornado (4.5.2)\r\n",
      "traitlets (4.3.2)\r\n",
      "typing (3.6.2)\r\n",
      "unicodecsv (0.14.1)\r\n",
      "urllib3 (1.22)\r\n",
      "wcwidth (0.1.7)\r\n",
      "webencodings (0.5.1)\r\n",
      "Werkzeug (0.12.2)\r\n",
      "wheel (0.30.0)\r\n",
      "widgetsnbextension (3.0.2)\r\n",
      "wrapt (1.10.11)\r\n",
      "xlrd (1.1.0)\r\n",
      "XlsxWriter (1.0.2)\r\n",
      "xlwings (0.11.4)\r\n",
      "xlwt (1.2.0)\r\n",
      "zict (0.1.3)\r\n"
     ]
    }
   ],
   "source": [
    "! pip list"
   ]
  },
  {
   "cell_type": "code",
   "execution_count": 2,
   "metadata": {},
   "outputs": [
    {
     "name": "stdout",
     "output_type": "stream",
     "text": [
      "\u001b[31mCannot uninstall requirement cfservicecredentialbrowser, not installed\u001b[0m\r\n"
     ]
    }
   ],
   "source": [
    "!pip uninstall -y cfservicecredentialbrowser"
   ]
  },
  {
   "cell_type": "code",
   "execution_count": 6,
   "metadata": {},
   "outputs": [
    {
     "name": "stdout",
     "output_type": "stream",
     "text": [
      "/Users/patti/anaconda3/lib/python3.6/site-packages/cffi:\r\n",
      "__init__.py       backend_ctypes.py ffiplatform.py    setuptools_ext.py\r\n",
      "\u001b[34m__pycache__\u001b[m\u001b[m       cffi_opcode.py    lock.py           vengine_cpy.py\r\n",
      "_cffi_include.h   commontypes.py    model.py          vengine_gen.py\r\n",
      "_embedding.h      cparser.py        parse_c_type.h    verifier.py\r\n",
      "api.py            error.py          recompiler.py\r\n",
      "\r\n",
      "/Users/patti/anaconda3/lib/python3.6/site-packages/cffi-1.10.0-py3.6.egg-info:\r\n",
      "PKG-INFO             entry_points.txt     top_level.txt\r\n",
      "SOURCES.txt          not-zip-safe\r\n",
      "dependency_links.txt requires.txt\r\n",
      "\r\n",
      "/Users/patti/anaconda3/lib/python3.6/site-packages/cfservicecredentialbrowser-0.1.0-py3.6.egg-info:\r\n",
      "PKG-INFO             installed-files.txt  top_level.txt\r\n",
      "SOURCES.txt          not-zip-safe\r\n",
      "dependency_links.txt requires.txt\r\n"
     ]
    }
   ],
   "source": [
    "! ls /Users/patti/anaconda3/lib/python3.6/site-packages/cf*\n"
   ]
  },
  {
   "cell_type": "code",
   "execution_count": 4,
   "metadata": {},
   "outputs": [
    {
     "name": "stdout",
     "output_type": "stream",
     "text": [
      "Collecting cfservicecredentialbrowser from git+https://github.com/ptitzler/cf-service-credential-browser.git#egg=cfservicecredentialbrowser\n",
      "  Cloning https://github.com/ptitzler/cf-service-credential-browser.git to /private/var/folders/cs/560yb9sn0xv9h_gw47z5l1140000gn/T/pip-build-m8t0s3pi/cfservicecredentialbrowser\n",
      "Requirement already up-to-date: pixiedust in /Users/patti/anaconda3/lib/python3.6/site-packages (from cfservicecredentialbrowser)\n",
      "Requirement already up-to-date: mpld3 in /Users/patti/anaconda3/lib/python3.6/site-packages (from pixiedust->cfservicecredentialbrowser)\n",
      "Requirement already up-to-date: astunparse in /Users/patti/anaconda3/lib/python3.6/site-packages (from pixiedust->cfservicecredentialbrowser)\n",
      "Requirement already up-to-date: markdown in /Users/patti/anaconda3/lib/python3.6/site-packages (from pixiedust->cfservicecredentialbrowser)\n",
      "Requirement already up-to-date: geojson in /Users/patti/anaconda3/lib/python3.6/site-packages (from pixiedust->cfservicecredentialbrowser)\n",
      "Requirement already up-to-date: lxml in /Users/patti/anaconda3/lib/python3.6/site-packages (from pixiedust->cfservicecredentialbrowser)\n",
      "Requirement already up-to-date: six<2.0,>=1.6.1 in /Users/patti/anaconda3/lib/python3.6/site-packages (from astunparse->pixiedust->cfservicecredentialbrowser)\n",
      "Requirement already up-to-date: wheel<1.0,>=0.23.0 in /Users/patti/anaconda3/lib/python3.6/site-packages (from astunparse->pixiedust->cfservicecredentialbrowser)\n",
      "Installing collected packages: cfservicecredentialbrowser\n",
      "  Running setup.py install for cfservicecredentialbrowser ... \u001b[?25ldone\n",
      "\u001b[?25hSuccessfully installed cfservicecredentialbrowser-0.1.0\n"
     ]
    }
   ],
   "source": [
    "!pip install --upgrade git+https://github.com/ptitzler/cf-service-credential-browser.git#egg=cfservicecredentialbrowser"
   ]
  },
  {
   "cell_type": "code",
   "execution_count": 9,
   "metadata": {},
   "outputs": [
    {
     "name": "stdout",
     "output_type": "stream",
     "text": [
      "/Users/patti/anaconda3/lib/python3.6/site-packages/cffi:\r\n",
      "__init__.py       backend_ctypes.py ffiplatform.py    setuptools_ext.py\r\n",
      "\u001b[34m__pycache__\u001b[m\u001b[m       cffi_opcode.py    lock.py           vengine_cpy.py\r\n",
      "_cffi_include.h   commontypes.py    model.py          vengine_gen.py\r\n",
      "_embedding.h      cparser.py        parse_c_type.h    verifier.py\r\n",
      "api.py            error.py          recompiler.py\r\n",
      "\r\n",
      "/Users/patti/anaconda3/lib/python3.6/site-packages/cffi-1.10.0-py3.6.egg-info:\r\n",
      "PKG-INFO             entry_points.txt     top_level.txt\r\n",
      "SOURCES.txt          not-zip-safe\r\n",
      "dependency_links.txt requires.txt\r\n",
      "\r\n",
      "/Users/patti/anaconda3/lib/python3.6/site-packages/cfservicecredentialbrowser-0.1.0-py3.6.egg-info:\r\n",
      "PKG-INFO             installed-files.txt  top_level.txt\r\n",
      "SOURCES.txt          not-zip-safe\r\n",
      "dependency_links.txt requires.txt\r\n"
     ]
    }
   ],
   "source": [
    "! ls /Users/patti/anaconda3/lib/python3.6/site-packages/cf*"
   ]
  },
  {
   "cell_type": "code",
   "execution_count": 15,
   "metadata": {},
   "outputs": [
    {
     "name": "stdout",
     "output_type": "stream",
     "text": [
      "PKG-INFO             installed-files.txt  top_level.txt\r\n",
      "SOURCES.txt          not-zip-safe\r\n",
      "dependency_links.txt requires.txt\r\n"
     ]
    }
   ],
   "source": [
    "!ls /Users/patti/anaconda3/lib/python3.6/site-packages/cfservicecredentialbrowser-0.1.0-py3.6.egg-info"
   ]
  },
  {
   "cell_type": "code",
   "execution_count": 12,
   "metadata": {},
   "outputs": [
    {
     "ename": "ValueError",
     "evalue": "list.remove(x): x not in list",
     "output_type": "error",
     "traceback": [
      "\u001b[0;31m---------------------------------------------------------------------------\u001b[0m",
      "\u001b[0;31mValueError\u001b[0m                                Traceback (most recent call last)",
      "\u001b[0;32m<ipython-input-12-88f9d54b012e>\u001b[0m in \u001b[0;36m<module>\u001b[0;34m()\u001b[0m\n\u001b[1;32m      1\u001b[0m \u001b[0;32mimport\u001b[0m \u001b[0msys\u001b[0m\u001b[0;34m\u001b[0m\u001b[0m\n\u001b[0;32m----> 2\u001b[0;31m \u001b[0msys\u001b[0m\u001b[0;34m.\u001b[0m\u001b[0mpath\u001b[0m\u001b[0;34m.\u001b[0m\u001b[0mremove\u001b[0m\u001b[0;34m(\u001b[0m\u001b[0;34m'/Users/patti/test/cred_collector/cfservicecredentialbrowser'\u001b[0m\u001b[0;34m)\u001b[0m\u001b[0;34m\u001b[0m\u001b[0m\n\u001b[0m\u001b[1;32m      3\u001b[0m \u001b[0mprint\u001b[0m\u001b[0;34m(\u001b[0m\u001b[0msys\u001b[0m\u001b[0;34m.\u001b[0m\u001b[0mpath\u001b[0m\u001b[0;34m)\u001b[0m\u001b[0;34m\u001b[0m\u001b[0m\n",
      "\u001b[0;31mValueError\u001b[0m: list.remove(x): x not in list"
     ]
    }
   ],
   "source": [
    "import sys\n",
    "#sys.path.remove('/Users/patti/test/cred_collector/cfservicecredentialbrowser')\n",
    "print(sys.path)"
   ]
  },
  {
   "cell_type": "code",
   "execution_count": 13,
   "metadata": {
    "collapsed": true
   },
   "outputs": [],
   "source": [
    "# define either \n",
    "ibm_cloud_user_api_token = None\n",
    "# or\n",
    "ibmid = None\n",
    "password = None\n",
    "# if an api token was specified it takes precendence over ibmid/password"
   ]
  },
  {
   "cell_type": "code",
   "execution_count": 14,
   "metadata": {
    "pixiedust": {
     "displayParams": {}
    }
   },
   "outputs": [
    {
     "ename": "ModuleNotFoundError",
     "evalue": "No module named 'cfservicecredentialbrowser'",
     "output_type": "error",
     "traceback": [
      "\u001b[0;31m---------------------------------------------------------------------------\u001b[0m",
      "\u001b[0;31mModuleNotFoundError\u001b[0m                       Traceback (most recent call last)",
      "\u001b[0;32m<ipython-input-14-25131c462604>\u001b[0m in \u001b[0;36m<module>\u001b[0;34m()\u001b[0m\n\u001b[0;32m----> 1\u001b[0;31m \u001b[0;32mfrom\u001b[0m \u001b[0mcfservicecredentialbrowser\u001b[0m \u001b[0;32mimport\u001b[0m \u001b[0mcfsbrowser\u001b[0m\u001b[0;34m\u001b[0m\u001b[0m\n\u001b[0m\u001b[1;32m      2\u001b[0m \u001b[0mb\u001b[0m \u001b[0;34m=\u001b[0m \u001b[0mcfsbrowser\u001b[0m\u001b[0;34m.\u001b[0m\u001b[0mBrowser\u001b[0m\u001b[0;34m(\u001b[0m\u001b[0mibm_cloud_user_api_token\u001b[0m\u001b[0;34m=\u001b[0m\u001b[0mibm_cloud_user_api_token\u001b[0m\u001b[0;34m)\u001b[0m\u001b[0;34m\u001b[0m\u001b[0m\n",
      "\u001b[0;31mModuleNotFoundError\u001b[0m: No module named 'cfservicecredentialbrowser'"
     ]
    }
   ],
   "source": [
    "from cfservicecredentialbrowser import cfsbrowser\n",
    "b = cfsbrowser.Browser(ibm_cloud_user_api_token=ibm_cloud_user_api_token)\n"
   ]
  },
  {
   "cell_type": "markdown",
   "metadata": {
    "collapsed": true
   },
   "source": [
    " "
   ]
  }
 ],
 "metadata": {
  "anaconda-cloud": {},
  "kernelspec": {
   "display_name": "Python 3",
   "language": "python",
   "name": "python3"
  },
  "language_info": {
   "codemirror_mode": {
    "name": "ipython",
    "version": 3
   },
   "file_extension": ".py",
   "mimetype": "text/x-python",
   "name": "python",
   "nbconvert_exporter": "python",
   "pygments_lexer": "ipython3",
   "version": "3.6.3"
  }
 },
 "nbformat": 4,
 "nbformat_minor": 1
}
