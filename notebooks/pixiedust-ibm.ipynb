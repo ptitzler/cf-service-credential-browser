{
 "cells": [
  {
   "cell_type": "code",
   "execution_count": null,
   "metadata": {
    "collapsed": true
   },
   "outputs": [],
   "source": [
    "# Upgrade to latest PixieDust version\n",
    "#!pip install --upgrade pixiedust"
   ]
  },
  {
   "cell_type": "code",
   "execution_count": null,
   "metadata": {
    "collapsed": true
   },
   "outputs": [],
   "source": [
    "#import pixiedust"
   ]
  },
  {
   "cell_type": "code",
   "execution_count": 1,
   "metadata": {},
   "outputs": [
    {
     "name": "stdout",
     "output_type": "stream",
     "text": [
      "Uninstalling cfcredentialsbrowser-0.1:\n",
      "  Successfully uninstalled cfcredentialsbrowser-0.1\n",
      "Obtaining file:///Users/patti/test/cred_collector/cfcredentialsbrowser\n",
      "Requirement already satisfied: pixiedust in /Users/patti/anaconda3/lib/python3.6/site-packages (from cfcredentialsbrowser==0.1)\n",
      "Requirement already satisfied: geojson in /Users/patti/anaconda3/lib/python3.6/site-packages (from pixiedust->cfcredentialsbrowser==0.1)\n",
      "Requirement already satisfied: astunparse in /Users/patti/anaconda3/lib/python3.6/site-packages (from pixiedust->cfcredentialsbrowser==0.1)\n",
      "Requirement already satisfied: mpld3 in /Users/patti/anaconda3/lib/python3.6/site-packages (from pixiedust->cfcredentialsbrowser==0.1)\n",
      "Requirement already satisfied: lxml in /Users/patti/anaconda3/lib/python3.6/site-packages (from pixiedust->cfcredentialsbrowser==0.1)\n",
      "Requirement already satisfied: markdown in /Users/patti/anaconda3/lib/python3.6/site-packages (from pixiedust->cfcredentialsbrowser==0.1)\n",
      "Requirement already satisfied: wheel<1.0,>=0.23.0 in /Users/patti/anaconda3/lib/python3.6/site-packages (from astunparse->pixiedust->cfcredentialsbrowser==0.1)\n",
      "Requirement already satisfied: six<2.0,>=1.6.1 in /Users/patti/anaconda3/lib/python3.6/site-packages (from astunparse->pixiedust->cfcredentialsbrowser==0.1)\n",
      "Installing collected packages: cfcredentialsbrowser\n",
      "  Running setup.py develop for cfcredentialsbrowser\n",
      "Successfully installed cfcredentialsbrowser\n"
     ]
    }
   ],
   "source": [
    "# Install the module ...\n",
    "\n",
    "# !pip install --upgrade --user --exists-action=w -e git+https://github.com/ptitzler/sample-pixieapp-deployment.git#egg=sample-pixieapp-deployment\n",
    "! pip uninstall -y cfcredentialsbrowser\n",
    "! pip install --exists-action=w -e /Users/patti/test/cred_collector/cfcredentialsbrowser\n",
    "\n",
    "# To uninstall ...\n",
    "\n",
    "# ! pip uninstall -y cfcredentialsbrowser"
   ]
  },
  {
   "cell_type": "code",
   "execution_count": 2,
   "metadata": {},
   "outputs": [
    {
     "name": "stdout",
     "output_type": "stream",
     "text": [
      "['/Users/patti/test/cred_collector', '', '/Users/patti/anaconda3/lib/python36.zip', '/Users/patti/anaconda3/lib/python3.6', '/Users/patti/anaconda3/lib/python3.6/lib-dynload', '/Users/patti/anaconda3/lib/python3.6/site-packages', '/Users/patti/anaconda3/lib/python3.6/site-packages/aeosa', '/Users/patti/test/cred_collector/cfcredentialsbrowser', '/Users/patti/anaconda3/lib/python3.6/site-packages/IPython/extensions', '/Users/patti/.ipython']\n"
     ]
    }
   ],
   "source": [
    "import sys\n",
    "sys.path.insert(0, '/Users/patti/test/cred_collector')\n",
    "print(sys.path)"
   ]
  },
  {
   "cell_type": "code",
   "execution_count": 3,
   "metadata": {},
   "outputs": [],
   "source": [
    "# define either \n",
    "ibm_cloud_user_api_token = None\n",
    "# or\n",
    "ibmid = None\n",
    "password = None\n",
    "# if an api token was specified it takes precendence over ibmid/password"
   ]
  },
  {
   "cell_type": "markdown",
   "metadata": {},
   "source": [
    "Collect metadata from IBM Cloud using the provided credentials. The method returns a Pandas DataFrame upon successful completion."
   ]
  },
  {
   "cell_type": "code",
   "execution_count": 4,
   "metadata": {
    "pixiedust": {
     "displayParams": {}
    }
   },
   "outputs": [
    {
     "data": {
      "text/html": [
       "<style type=\"text/css\">.pd_warning{display:none;}</style><div class=\"pd_warning\"><em>Hey, there's something awesome here! To see it, open this notebook outside GitHub, in a viewer like Jupyter</em></div>"
      ],
      "text/plain": [
       "<IPython.core.display.HTML object>"
      ]
     },
     "metadata": {
      "pixieapp_metadata": null
     },
     "output_type": "display_data"
    }
   ],
   "source": [
    "import cfcredentialsbrowser.pixiedust_ibm.CFCollector as CFC\n",
    "import cfcredentialsbrowser.pixiedust_ibm.CFServiceCredentialsBrowser as CFSCB\n",
    "\n",
    "service_instance_df = CFC.CFCollector({'api_token': ibm_cloud_user_api_token,\n",
    "                       'ibmid': ibmid, \n",
    "                       'password': password}).collect()\n",
    "\n",
    "CFSCB.CFServiceCredentialsBrowser().run({'data': service_instance_df,\n",
    "                                         'api_token': ibm_cloud_user_api_token,\n",
    "                                         'ibmid': ibmid, \n",
    "                                         'password': password})"
   ]
  },
  {
   "cell_type": "markdown",
   "metadata": {},
   "source": [
    "### (OPTIONAL) Inspect the collected data"
   ]
  },
  {
   "cell_type": "code",
   "execution_count": null,
   "metadata": {
    "collapsed": true
   },
   "outputs": [],
   "source": [
    "service_instance_df"
   ]
  },
  {
   "cell_type": "code",
   "execution_count": null,
   "metadata": {},
   "outputs": [],
   "source": [
    "%pixiedustLog -l debug"
   ]
  },
  {
   "cell_type": "markdown",
   "metadata": {},
   "source": [
    "### Launch the IBM Cloud service credentials browser"
   ]
  },
  {
   "cell_type": "markdown",
   "metadata": {
    "collapsed": true
   },
   "source": [
    " "
   ]
  }
 ],
 "metadata": {
  "anaconda-cloud": {},
  "kernelspec": {
   "display_name": "Python 3",
   "language": "python",
   "name": "python3"
  },
  "language_info": {
   "codemirror_mode": {
    "name": "ipython",
    "version": 3
   },
   "file_extension": ".py",
   "mimetype": "text/x-python",
   "name": "python",
   "nbconvert_exporter": "python",
   "pygments_lexer": "ipython3",
   "version": "3.6.3"
  }
 },
 "nbformat": 4,
 "nbformat_minor": 1
}
